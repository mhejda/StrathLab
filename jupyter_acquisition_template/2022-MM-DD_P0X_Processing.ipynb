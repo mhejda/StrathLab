{
 "cells": [
  {
   "cell_type": "code",
   "execution_count": 2,
   "id": "2334ee0e-4c19-40e9-b38c-708be947ddf0",
   "metadata": {},
   "outputs": [
    {
     "name": "stdout",
     "output_type": "stream",
     "text": [
      "Found 1 datafiles in: D:\\Repositories\\StrathLab\\jupyter_acquisition_template\\data\n"
     ]
    }
   ],
   "source": [
    "import numpy as np\n",
    "import matplotlib.pyplot as plt\n",
    "import pickle, sys, lzma, os\n",
    "sys.path.insert(0,'C:/git/StrathLab/libs') #Lab PC\n",
    "sys.path.insert(0,'D:/Repositories/StrathLab/libs') #XMG\n",
    "import StrathLabToolkit as lab\n",
    "\n",
    "datadir = 'data'\n",
    "\n",
    "datadir_full = os.path.join(os.getcwd(),datadir)\n",
    "datafiles = lab.Get_Files_From_Dir(datadir_full)\n",
    "datafiles = [entry for entry in datafiles if '.pkl.lz' in entry] \n",
    "dfile_count=len(datafiles)\n",
    "print(f'Found {dfile_count} datafiles in: {datadir_full}')"
   ]
  },
  {
   "cell_type": "code",
   "execution_count": 19,
   "id": "8dcfe522-1a0b-4675-9c4c-69b682aefa22",
   "metadata": {},
   "outputs": [
    {
     "name": "stdout",
     "output_type": "stream",
     "text": [
      "File loaded: 2023-03-13__203_Cancellation_AB-MOD.pkl.lz\n",
      "- includes: 1x OSC channel(s), 10x repeated acquisition\n"
     ]
    },
    {
     "data": {
      "image/png": "[encoded data removed]",
      "text/plain": [
       "<Figure size 576x144 with 1 Axes>"
      ]
     },
     "metadata": {
      "needs_background": "light"
     },
     "output_type": "display_data"
    }
   ],
   "source": [
    "## Load and plot a datafile\n",
    "lookup = '0' # performs lookup via this string in datafiles\n",
    " \n",
    "for dfile in datafiles:\n",
    "    if lookup in dfile:\n",
    "        with lzma.open((os.path.join(datadir_full,dfile)),\"rb\") as f:\n",
    "            data = pickle.load(f)\n",
    "            print(f'File loaded: {dfile}')\n",
    "            print(f'- includes: {data.readout_osc_count}x OSC channel(s), {data.repeats}x repeated acquisition')\n",
    "            \n",
    "            if data.readout_osc_count == 1:   # Files with only one recorded OSC trace\n",
    "                \n",
    "                fig, ax = plt.subplots(data.readout_osc_count,1,\n",
    "                                       figsize=(8,2))\n",
    "                for rep in range(data.repeats):      # Acquisition repetitions\n",
    "                    ax.plot(np.linspace(*data[f'readout_osc_0'].xpar)*1e9,\n",
    "                            data[f'readout_osc_0'][f'y{rep}']*1e3,\n",
    "                            lw=0.75,\n",
    "                            color='xkcd:deep purple')\n",
    "                    \n",
    "                ax.text(0,1.02,data[f'readout_osc_0'].description,transform = ax.transAxes)\n",
    "                ax.set_xlabel('Time [ns]')\n",
    "                ax.set_ylabel('Voltage [mV]')\n",
    "            \n",
    "            else:                             # Files with two or more recorded OSC traces\n",
    "                fig, ax = plt.subplots(data.readout_osc_count,1,\n",
    "                                       figsize=(8,2*data.readout_osc_count))\n",
    "                for ic in range(data.readout_osc_count):\n",
    "                    for rep in range(data.repeats):  # Acquisition repetitions\n",
    "                        ax[ic].plot(np.linspace(*data[f'readout_osc_{ic}'].xpar)*1e9,\n",
    "                                data[f'readout_osc_{ic}'][f'y{rep}']*1e3,\n",
    "                                lw=0.75,\n",
    "                                color='xkcd:deep purple')\n",
    "                        \n",
    "                    ax[ic].text(0,1.02,data[f'readout_osc_0'].description,transform = ax.transAxes)\n",
    "                    ax[ic].set_xlabel('Time [ns]')\n",
    "                    ax[ic].set_ylabel('Voltage [mV]')"
   ]
  },
  {
   "cell_type": "code",
   "execution_count": 21,
   "id": "7fe4deb5-1df8-4ce6-8abc-f3a2642636c1",
   "metadata": {},
   "outputs": [
    {
     "name": "stdout",
     "output_type": "stream",
     "text": [
      "KEY                       LEVEL           TYPE      \n",
      "-------------------------------------------------------------------------------\n",
      "date                      0               <str>: 2023/03/13, 14:09:13\n",
      "fname                     0               <str>: 203_Cancellation_AB-MOD\n",
      "modulation                0               <objdict> \n",
      "  ch1_offset_A            1               <float>: 1.1e-08\n",
      "  ch1_pulse_count         1               <int>: 10 \n",
      "  ch1_pulse_length_sa     1               <int>: 10 \n",
      "  ch1_pulseamps           1               <tuple>: (1, 0, 1)\n",
      "  ch1_separator           1               <float>: 5e-07\n",
      "  ch1_trigseparation      1               <float>: 1.5e-07\n",
      "  ch1_type                1               <str>: dac\n",
      "  ch1_voltage             1               <float>: 0.18\n",
      "  ch1_wfamp               1               <float>: 0.35\n",
      "  ch2_offset_A            1               <int>: 0  \n",
      "  ch2_pulse_count         1               <int>: 10 \n",
      "  ch2_pulse_length_sa     1               <int>: 10 \n",
      "  ch2_pulseamps           1               <tuple>: (0, 1, 1)\n",
      "  ch2_separator           1               <float>: 5e-07\n",
      "  ch2_trigseparation      1               <float>: 1.5e-07\n",
      "  ch2_type                1               <str>: dac\n",
      "  ch2_voltage             1               <float>: 0.1\n",
      "  ch2_wfamp               1               <float>: 0.35\n",
      "  samplerate              1               <float>: 1000000000.0\n",
      "  wf1_xpar                1               <tuple>: 1.00e+09 Sa/s, 1040 Sa\n",
      "  wf1_y                   1               <ndarray> \n",
      "  wf2_xpar                1               <tuple>: 1.00e+09 Sa/s, 1040 Sa\n",
      "  wf2_y                   1               <ndarray> \n",
      "notes                     0               <str>: .  \n",
      "params                    0               <objdict> \n",
      "  VCSEL_A_I               1               <float>: 0.002\n",
      "  VCSEL_A_P               1               <float>: 9e-05\n",
      "  VCSEL_A_device          1               <str>: Ca7n01 #6\n",
      "  VCSEL_A_wl              1               <float>: 1.287e-06\n",
      "  VCSEL_B_I               1               <float>: 0.00326\n",
      "  VCSEL_B_P               1               <float>: 8e-05\n",
      "  VCSEL_B_device          1               <str>: RC32XXX1-FFA\n",
      "  VCSEL_B_wl              1               <float>: 1.55e-06\n",
      "  V_{RTD}                 1               <float>: 0.853\n",
      "  devicename              1               <str>: O0.5_C1_R3\n",
      "  samplename              1               <str>: TUe RTD Sample\n",
      "readout_osc_0             0               <objdict>: 10x | 4.00e+10 Sa/s, 20000 Sa\n",
      "readout_osc_count         0               <int>: 1  \n",
      "repeats                   0               <int>: 10 \n"
     ]
    }
   ],
   "source": [
    "# Contents of loaded datafile can easily be visualized using following function:\n",
    "data.contents()"
   ]
  }
 ],
 "metadata": {
  "kernelspec": {
   "display_name": "Python [conda env:py37_main]",
   "language": "python",
   "name": "conda-env-py37_main-py"
  },
  "language_info": {
   "codemirror_mode": {
    "name": "ipython",
    "version": 3
   },
   "file_extension": ".py",
   "mimetype": "text/x-python",
   "name": "python",
   "nbconvert_exporter": "python",
   "pygments_lexer": "ipython3",
   "version": "3.7.7"
  }
 },
 "nbformat": 4,
 "nbformat_minor": 5
}
