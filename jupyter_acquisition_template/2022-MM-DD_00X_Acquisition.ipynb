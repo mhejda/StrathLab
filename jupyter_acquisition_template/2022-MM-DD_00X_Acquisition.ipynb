{
 "cells": [
  {
   "cell_type": "markdown",
   "id": "047b618b-6346-44ac-b9e3-20460e4d9f47",
   "metadata": {},
   "source": [
    "# Notebook 1\n",
    "\n",
    "This notebook is primarily intended for data acquisition (and viewing the recordings after acquisition). "
   ]
  },
  {
   "cell_type": "markdown",
   "id": "ac157f9c-0f3c-42be-bcad-7676c1ad16d8",
   "metadata": {},
   "source": [
    "### Scripts & data"
   ]
  },
  {
   "cell_type": "code",
   "execution_count": null,
   "id": "07edf848-a301-4b9c-8bc0-ef8747d614ac",
   "metadata": {
    "tags": []
   },
   "outputs": [],
   "source": [
    "isHot = True  # This variable decides on the global state of the notebook. isHot = instruments are connected and controlled, data is acquired and saved.\n",
    "isSaving = isHot and True\n",
    "\n",
    "# Native libraries\n",
    "import pickle, sys, lzma, warnings, os, sys, importlib, numpy as np, pandas as pd, matplotlib as mpl, matplotlib.pyplot as plt\n",
    "sys.path.insert(0,'C:/git/StrathLab/libs') #Lab PC\n",
    "sys.path.insert(0,'D:/Repositories/StrathLab/libs') #XMG\n",
    "\n",
    "import StrathLabToolkit as lab\n",
    "importlib.reload(lab)\n",
    "from IPython.display import Markdown #for text coloring\n",
    "mpl.rcParams['agg.path.chunksize'] = 100000\n",
    "\n",
    "awg, rth, sm, datadir_full = lab.Initialise_Notebook(isHot)"
   ]
  },
  {
   "cell_type": "markdown",
   "id": "022056bf-8b00-4289-a5e4-2fba2a734760",
   "metadata": {},
   "source": [
    "### AWG Waveforms"
   ]
  },
  {
   "cell_type": "code",
   "execution_count": null,
   "id": "db0e53d0-4012-4581-a9d2-fedccece0b65",
   "metadata": {
    "tags": []
   },
   "outputs": [],
   "source": [
    "lab.Clear_All_Ch_Variables(globals()) # Clears the workspace of all mod-related variables prior to starting\n",
    "samplerate = 1e9 #between 125e6 and 12e9\n",
    "using_AWG_channels = (1,) #(1,2) # Denominate used channels: (1,),(2,),(1,2) or 'None' if no modulation\n",
    "wf_rounding_factor = 1000 # Rounds waveform length to (ideally) avoid high repetitions during AWG synthesis. May cause issues for WFs with low sample counts, set to 1 to bypass\n",
    "\n",
    "#### IMPORTANT!!!!: Sets voltage for AWG outputs\n",
    "ch1_type = 'dac' # 'dac' (direct) or 'dc' (amplified)\n",
    "ch1_voltage = 0.1  # in volts\n",
    "\n",
    "ch2_type = 'dac' # 'dac' (direct) or 'dc' (amplified)\n",
    "ch2_voltage = 0.1\n",
    "\n",
    "# Note: variables that contain 'ch1_' or 'ch2_' are auto-saved with each measurement\n",
    "# Therefore, if you want any mod parameters to be saved, make sure their name includes channel reference\n",
    "\n",
    "################################\n",
    "\n",
    "#### Quick settings check: AWG channels must be specified as tuple. This auto-fixes for int inputs\n",
    "if isinstance(using_AWG_channels,int):\n",
    "    awg_chann = using_AWG_channels\n",
    "    using_AWG_channels = (awg_chann,)\n",
    "    \n",
    "if using_AWG_channels != None:\n",
    "    display (Markdown('<span style=\"color: #1fa774\">Used AWG channels: </span> <span style=\"color:#1fa774; font-weight:bold\">'+str(using_AWG_channels)+'</span>.'))\n",
    "    \n",
    "    # ///// CHANNEL 1 //////////////////////////////////////////////////////\n",
    "    if 1 in using_AWG_channels:\n",
    "        ##### CHANGE WF FROM HERE ##########################################\n",
    "        ch1_pulse_length_sa = 1\n",
    "        ch1_trigseparation = 250e-9\n",
    "        ch1_wf1amp = 1\n",
    "        ch1_pulse_count = 10\n",
    "        ch1_separator = 1000e-9\n",
    "        ch1_offset_A = 0\n",
    "\n",
    "        wf1_y = np.zeros(100+int(ch1_offset_A*samplerate))\n",
    "\n",
    "        for ii in range(ch1_pulse_count):\n",
    "            sep = ch1_trigseparation-(ch1_pulse_length_sa/samplerate)\n",
    "            wf1_y = np.concatenate((wf1_y,\n",
    "                                  np.ones(int(ch1_pulse_length_sa))*ch1_wf1amp,\n",
    "                                  np.zeros(int(sep*samplerate))))\n",
    "\n",
    "        wf1_y = np.concatenate((wf1_y,np.zeros(int(ch1_separator*samplerate)))) \n",
    "\n",
    "        ##### CHANGE WF TO HERE ############################################\n",
    "        wf1len = wf1_y.shape[0]\n",
    "        print(f'Waveform WF1 length (samples): {wf1_y.shape[0]}')\n",
    "    else:\n",
    "        wf1_y = None\n",
    "        \n",
    "    # ///// CHANNEL 2 //////////////////////////////////////////////////////\n",
    "    if 2 in using_AWG_channels:\n",
    "        ##### CHANGE WF FROM HERE ##########################################\n",
    "        ch2_step_len = 1/10e3\n",
    "        ch2_levels = (0.25,0.5,0.75,1)\n",
    "        ch2_wf2amp = 1\n",
    "\n",
    "        offset_B = 40e-9\n",
    "        zerolvl = 0\n",
    "\n",
    "        wf2_y = np.ones(100+int(offset_B*samplerate))*zerolvl\n",
    "        for level in ch2_levels:\n",
    "            wf2_y = np.concatenate((wf2_y,\n",
    "                                  np.ones(int(samplerate*ch2_step_len))*ch2_wf2amp*level#,\n",
    "                                  #np.ones(int(samplerate*step_len))*0\n",
    "                                  ))\n",
    "        ##### CHANGE WF TO HERE ############################################    \n",
    "        wf2len = wf2_y.shape[0]    \n",
    "        print(f'Waveform WF2 length (samples): {wf2_y.shape[0]}')\n",
    "    else:\n",
    "        wf2_y = None\n",
    "\n",
    "    \n",
    "    ##### Sends created waveform(s) to the instruments #####################\n",
    "    wf1_xpar, wf2_xpar, fig = lab.Send_WFs_to_AWG(wf1=wf1_y,\n",
    "                                            out1=ch1_type,\n",
    "                                            ch1_V=ch1_voltage, \n",
    "                                            wf2=wf2_y, \n",
    "                                            out2=ch2_type, \n",
    "                                            ch2_V=ch2_voltage, \n",
    "                                            isHot=isHot, \n",
    "                                            awg=awg, \n",
    "                                            sr=samplerate, \n",
    "                                            channels=using_AWG_channels, \n",
    "                                            rounding_fact=wf_rounding_factor)\n",
    "else:\n",
    "    display (Markdown('<span style=\"color: #1fa774\">No waveforms sent to AWG (variable using_AWG_channels == None).</span>'))"
   ]
  },
  {
   "cell_type": "markdown",
   "id": "6607a89f-796a-42c9-bb38-8eab8748b496",
   "metadata": {
    "tags": []
   },
   "source": [
    "### Acquisition"
   ]
  },
  {
   "cell_type": "code",
   "execution_count": null,
   "id": "eb4d6114-516f-472f-bbed-315026b99adf",
   "metadata": {
    "tags": []
   },
   "outputs": [],
   "source": [
    "#### Utilizes dicts wrapped in a Class (to allow more convenient argument access)\n",
    "saved_obj = lab.objdict_root()\n",
    "saved_obj['params'] = lab.objdict()\n",
    "\n",
    "#### THIS IS WHAT YOU SHOULD CHANGE ###############\n",
    "fname = '001_MyDataFile'\n",
    "measurement_notes = 'No notes.' \n",
    "acq_channels = (1,3)  # (1,2,3,4) to select oscilloscope channel(s). Must be tuple\n",
    "repeats = 10 # How many acquisitions in sequence should be taken\n",
    "osc_channel_info = {'1':\"_\", \n",
    "                    '2':\"_\",\n",
    "                    '3':\"_\",\n",
    "                    '4':\"_\"} #use this to describe what is on individual OSC channels \n",
    "\n",
    "#### THESE ARE SAVED PARAMETERS (can be used to store metadata with data) ###########\n",
    "saved_obj['params']['samplename'] = \"Chip_ABC\"\n",
    "saved_obj['params']['devicename'] = \"RTD_xyz_123\"\n",
    "#saved_obj['params']['V_RTD'] = 0.830\n",
    "\n",
    "##### HERE THE ACTUAL MEASURING STARTS, NO NEED TO CHANGE CODE BELOW ##########  \n",
    "saved_obj['notes'] = measurement_notes\n",
    "if isHot == True:\n",
    "    saved_obj = lab.Get_Modulation_Variables(globals(),\n",
    "                             using_AWG_channels,\n",
    "                             samplerate,\n",
    "                             saved_obj) \n",
    "    \n",
    "    measurement = lab.Get_OSC_readouts(acq_channels,\n",
    "                                       repeats, osc_channel_info,\n",
    "                                       saved_obj,\n",
    "                                       awg, rth, sm,\n",
    "                                       fname,datadir_full,\n",
    "                                       isSaving,\n",
    "                                       show_figures = True)    \n",
    "else: display (Markdown('<span style=\"color: #e17701;font-weight:bold\">The global acquisition switch (isHot) is set to FALSE. No data recorded.</span>'))"
   ]
  }
 ],
 "metadata": {
  "kernelspec": {
   "display_name": "Python [conda env:py37_main]",
   "language": "python",
   "name": "conda-env-py37_main-py"
  },
  "language_info": {
   "codemirror_mode": {
    "name": "ipython",
    "version": 3
   },
   "file_extension": ".py",
   "mimetype": "text/x-python",
   "name": "python",
   "nbconvert_exporter": "python",
   "pygments_lexer": "ipython3",
   "version": "3.7.7"
  }
 },
 "nbformat": 4,
 "nbformat_minor": 5
}
