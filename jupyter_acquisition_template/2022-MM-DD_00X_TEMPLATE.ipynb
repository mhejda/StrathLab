{
 "cells": [
  {
   "cell_type": "markdown",
   "id": "d26a1368-b23f-461a-ba06-cdbf3cd36208",
   "metadata": {
    "tags": []
   },
   "source": [
    "# 2022-MM-DD_001__NAME\n",
    "\n",
    "## H2 heading\n",
    "\n",
    "### H3 heading\n",
    "\n",
    "You can put description, notes, anything.\n",
    "The idea is that one runs the first cell to initiate, the second cell to set modulation waveforms, the third cell to acquire data.\n",
    "\n",
    "This supports Markdown: **bold**, _underscored_, [links](https://strath.ac.uk) as well as <span style=\"color: #1fa774\">HTML</span> and even external images.\n",
    "\n",
    "<img src=\"https://www.strath.ac.uk/media/1newwebsite/documents/brand/strath_main.jpg\" alt=\"Strathy logo\" width=\"100\" height=\"100\"> \n",
    "\n",
    "- Running single cell: Ctrl+Enter\n",
    "- Running single cell and move to next one: Shift+Enter"
   ]
  },
  {
   "cell_type": "markdown",
   "id": "3a963819-d928-45a6-82bd-95ed57083fe6",
   "metadata": {},
   "source": [
    "## Measurement datafile structure"
   ]
  },
  {
   "cell_type": "markdown",
   "id": "d8f80319-b029-455f-bb34-6632fc6eb145",
   "metadata": {
    "tags": []
   },
   "source": [
    "The measurements are saved in datafiles designed to store all data AND metadata for the measurement.\n",
    "The goal is to have the datafile completely self-sustained, minimizing the need for referencing the corresponding lab-book entry or writing down parameters and filenames by hand.\n",
    "The datafile is stored as a LZMA-compressed, serialized (pickled) dictionary object (dict) with following hierarchy:\n",
    "\n",
    "- `fname` _(stores the reference filename defined during acquisition, in case the file would get renamed)_\n",
    "- `date` _(full date of acquistion, including HH:MM:SS)_\n",
    "- `repeats` _(how many readouts are taken in the measurement)_\n",
    "- `modulation` _(stores everything related to AWG modulation)_\n",
    "    - _all variables in the scope that include `ch1_` and/or `ch2_` are saved alongside the measurement_\n",
    "    - `wf1/2_xpar`\n",
    "    - `wf1/2_y`\n",
    "- `readout_osc_count` _(number of recorded OSC traces)_   \n",
    "- `readout_osc_1` _(oscilloscope readout traces, numbered as simple integers)_\n",
    "    - `0`, `1`, `2`, `3`, ...\n",
    "        - `xpar `\n",
    "        - `y`\n",
    "    - `mean` _(simple arithmetic mean for all acquired measurements, useful for quickly checking readouts from a datafile)_\n",
    "        - `xpar`\n",
    "        - `y`\n",
    "\n",
    "NOTE: `xpar` is a three-value tuple which can be directly fed to `np.linspace(*xpar)` to create a correspodning time-values vector for any recorded data.\n",
    "\n",
    "Contents of any data-dictionary can be directly viewer with `lab.Visualise_Data_Dict(dict)`."
   ]
  },
  {
   "cell_type": "markdown",
   "id": "ccfc665c-b8ce-436a-8065-e08fd96e9d14",
   "metadata": {},
   "source": [
    "**This notebook is primarily intended for data acquisition (and viewing the recordings after acquisition). Post-processing can be done in this notebook, but would be probably better done in a separate notebook _(all metadata, including AWG modulation, is included with every measurement and can be queried from the datafile)._**"
   ]
  },
  {
   "cell_type": "markdown",
   "id": "ac157f9c-0f3c-42be-bcad-7676c1ad16d8",
   "metadata": {},
   "source": [
    "# Scripts & data"
   ]
  },
  {
   "cell_type": "code",
   "execution_count": 1,
   "id": "07edf848-a301-4b9c-8bc0-ef8747d614ac",
   "metadata": {
    "tags": []
   },
   "outputs": [
    {
     "data": {
      "text/markdown": [
       "<span style=\"color: #1fa774\">All instrument control libraries found and loaded.</span>"
      ],
      "text/plain": [
       "<IPython.core.display.Markdown object>"
      ]
     },
     "metadata": {},
     "output_type": "display_data"
    },
    {
     "name": "stdout",
     "output_type": "stream",
     "text": [
      "Connected to oscilloscope.\n",
      "Device IDN: Rohde&Schwarz,RTP,1320.5007k08/100963,4.80.1.0\n",
      "Device Options: K37,B1,B4,B10,B102,B0816\n",
      "\n"
     ]
    },
    {
     "name": "stderr",
     "output_type": "stream",
     "text": [
      "C:\\Users\\Antonio\\Miniconda3\\envs\\py37_main\\lib\\site-packages\\ipykernel_launcher.py:70: RuntimeWarning: Keithley not connected.\n"
     ]
    }
   ],
   "source": [
    "isHot = True  # This variable decides on the global state of the notebook. isHot = instruments are connected and controlled, data is acquired and saved.\n",
    "isSaving = isHot and True\n",
    "datadir = 'data'\n",
    "figsdir = 'figs'\n",
    "\n",
    "# Native libraries\n",
    "import numpy as np\n",
    "import pandas as pd\n",
    "import matplotlib.pyplot as plt\n",
    "import pickle\n",
    "import sys\n",
    "from time import sleep\n",
    "from datetime import datetime\n",
    "from time import sleep\n",
    "from tqdm import tqdm\n",
    "import lzma\n",
    "import warnings\n",
    "import os\n",
    "datadir_full = os.path.join(os.getcwd(),datadir)\n",
    "import sys\n",
    "sys.path.insert(0,'C:/git/StrathLab/libs') #Lab PC\n",
    "sys.path.insert(0,'D:/Repositories/StrathLab/libs') #XMG\n",
    "from IPython.display import Markdown #for text coloring\n",
    "\n",
    "# Ensure folders for data and figs exist\n",
    "if not os.path.isdir(datadir_full):\n",
    "    os.mkdir(datadir_full)\n",
    "if not os.path.isdir(os.path.join(os.getcwd(),figsdir)):\n",
    "    os.mkdir(os.path.join(os.getcwd(),figsdir))\n",
    "\n",
    "# Instrument libraries\n",
    "try:\n",
    "    from RsInstrument import BinFloatFormat\n",
    "    import RsInstrument as rs\n",
    "    import pyvisa as visa\n",
    "    import pyarbtools\n",
    "    display (Markdown('<span style=\"color: #1fa774\">All instrument control libraries found and loaded.</span>'))\n",
    "except:\n",
    "    display (Markdown('<span style=\"color: #e17701;font-weight:bold\">At least one of the instrument library failed to load. Remote control of lab equipment is not operational.</span>'))\n",
    "\n",
    "# Custom libraries\n",
    "import StrathLabToolkit as lab\n",
    "\n",
    "# Initiate remote control for lab instruments\n",
    "awg = None\n",
    "rth = None\n",
    "sm = None\n",
    "\n",
    "if isHot:\n",
    "    try:\n",
    "        awg = pyarbtools.instruments.M8190A('130.159.91.79', port=5025, timeout=30, reset=False)\n",
    "    except:\n",
    "        try:\n",
    "            awg = pyarbtools.instruments.M8190A('127.0.0.1', port=5025, timeout=30, reset=False)\n",
    "        except:\n",
    "            warnings.warn('AWG not connected.',RuntimeWarning)\n",
    "            awg = lab.Mock()\n",
    "    \n",
    "    try:\n",
    "        rth = lab.Initialise_OSC()\n",
    "    except:\n",
    "        warnings.warn('Oscilloscope not connected.',RuntimeWarning)\n",
    "        rth = lab.Mock()\n",
    "        \n",
    "    try:\n",
    "        sm = lab.Initialise_Keithley()\n",
    "        sm.measure_current(current=0.02, auto_range=True)\n",
    "        sm.apply_voltage(voltage_range=2, compliance_current=0.02)    \n",
    "    except:\n",
    "        warnings.warn('Keithley not connected.',RuntimeWarning)\n",
    "        sm = lab.Mock()\n",
    "        \n",
    "        \n",
    "else:\n",
    "    awg = lab.Mock()\n",
    "    rth = lab.Mock()\n",
    "    sm = lab.Mock()\n",
    "#%%"
   ]
  },
  {
   "cell_type": "markdown",
   "id": "022056bf-8b00-4289-a5e4-2fba2a734760",
   "metadata": {},
   "source": [
    "## AWG Waveforms"
   ]
  },
  {
   "cell_type": "code",
   "execution_count": 2,
   "id": "db0e53d0-4012-4581-a9d2-fedccece0b65",
   "metadata": {
    "tags": []
   },
   "outputs": [
    {
     "data": {
      "text/markdown": [
       "<span style=\"color: #1fa774\">No waveforms sent to AWG (using_AWG_channels == None).</span>"
      ],
      "text/plain": [
       "<IPython.core.display.Markdown object>"
      ]
     },
     "metadata": {},
     "output_type": "display_data"
    }
   ],
   "source": [
    "samplerate = 1e9 #between 125e6 and 12e9\n",
    "using_AWG_channels = None #(1,2) # Denominate used channels: (1,),(2,),(1,2) or 'None' if no modulation\n",
    "wf_rounding_factor = 1000 # Rounds waveform length to (ideally) avoid high repetitions during AWG synthesis\n",
    "\n",
    "#### IMPORTANT!!!!: Sets voltage for AWG outputs\n",
    "ch1_type = 'dac' # 'dac' (direct) or 'dc' (amplified)\n",
    "ch1_voltage = 0.2  # in volts\n",
    "\n",
    "ch2_type = 'dac' # 'dac' (direct) or 'dc' (amplified)\n",
    "ch2_voltage = 0.1\n",
    "\n",
    "# Note: variables that contain 'ch1_' or 'ch2_' are auto-saved with each measurement\n",
    "# Therefore, if you want any mod parameters to be saved, make sure their name includes channel reference\n",
    "\n",
    "################################\n",
    "if using_AWG_channels != None:\n",
    "    display (Markdown('<span style=\"color: #1fa774\">Used AWG channels: </span> <span style=\"color:#1fa774; font-weight:bold\">'+str(using_AWG_channels)+'</span>.'))\n",
    "    # CHANNEL 1\n",
    "    if 1 in using_AWG_channels:\n",
    "        ##### CHANGE WF FROM HERE\n",
    "        ch1_pulse_length_sa = 1\n",
    "        ch1_trigseparation = 250e-9\n",
    "        ch1_wf1amp = 1\n",
    "        ch1_pulse_count = 10\n",
    "        ch1_separator = 1000e-9\n",
    "        ch1_offset_A = 0\n",
    "\n",
    "        wf1_y = np.zeros(100+int(ch1_offset_A*samplerate))\n",
    "\n",
    "        for ii in range(ch1_pulse_count):\n",
    "            sep = ch1_trigseparation-(ch1_pulse_length_sa/samplerate)\n",
    "            wf1_y = np.concatenate((wf1_y,\n",
    "                                  np.ones(int(ch1_pulse_length_sa))*ch1_wf1amp,\n",
    "                                  np.zeros(int(sep*samplerate))))\n",
    "\n",
    "        wf1_y = np.concatenate((wf1_y,np.zeros(int(ch1_separator*samplerate)))) \n",
    "\n",
    "        ##### CHANGE WF TO HERE\n",
    "        wf1len = wf1_y.shape[0]\n",
    "        print(f'Waveform WF1 length (samples): {wf1_y.shape[0]}')\n",
    "\n",
    "    else:\n",
    "        wf1_y = None\n",
    "    ################################\n",
    "    # CHANNEL 2\n",
    "    if 2 in using_AWG_channels:\n",
    "        ch2_step_len = 1/10e3\n",
    "        ch2_levels = (0.25,0.5,0.75,1)\n",
    "        ch2_wf2amp = 1\n",
    "\n",
    "        offset_B = 40e-9\n",
    "        zerolvl = 0\n",
    "\n",
    "        wf2_y = np.ones(100+int(offset_B*samplerate))*zerolvl\n",
    "        for level in ch2_levels:\n",
    "            wf2_y = np.concatenate((wf2_y,\n",
    "                                  np.ones(int(samplerate*ch2_step_len))*ch2_wf2amp*level#,\n",
    "                                  #np.ones(int(samplerate*step_len))*0\n",
    "                                  ))\n",
    "        #### Change to here    \n",
    "        wf2len = wf2_y.shape[0]    \n",
    "        print(f'Waveform WF2 length (samples): {wf2_y.shape[0]}')\n",
    "    else:\n",
    "        wf2_y = None\n",
    "    #wf2 = np.concatenate((wf2,np.ones(int(10*separator*samplerate))*zerolvl))    \n",
    "    #wf2 = wf2/np.max(wf2)\n",
    "\n",
    "    ###############################\n",
    "    # Sends created waveform(s) to the instruments\n",
    "    wf1_xpar, wf2_xpar, fig = lab.Send_WFs_to_AWG(wf1=wf1_y,\n",
    "                                            out1=ch1_type,\n",
    "                                            ch1_V=ch1_voltage, \n",
    "                                            wf2=wf2_y, \n",
    "                                            out2=ch2_type, \n",
    "                                            ch2_V=ch2_voltage, \n",
    "                                            isHot=isHot, \n",
    "                                            awg=awg, \n",
    "                                            sr=samplerate, \n",
    "                                            channels=using_AWG_channels, \n",
    "                                            rounding_fact=wf_rounding_factor)\n",
    "else:\n",
    "    display (Markdown('<span style=\"color: #1fa774\">No waveforms sent to AWG (using_AWG_channels == None).</span>'))"
   ]
  },
  {
   "cell_type": "markdown",
   "id": "6607a89f-796a-42c9-bb38-8eab8748b496",
   "metadata": {
    "tags": []
   },
   "source": [
    "### Acquisition"
   ]
  },
  {
   "cell_type": "code",
   "execution_count": 7,
   "id": "ed43e5e3-bb21-4874-9056-407e3e357899",
   "metadata": {
    "tags": []
   },
   "outputs": [
    {
     "name": "stderr",
     "output_type": "stream",
     "text": [
      "C:\\Users\\Antonio\\Miniconda3\\envs\\py37_main\\lib\\site-packages\\ipykernel_launcher.py:37: UserWarning: File exists already! Press Enter to continue...\n"
     ]
    },
    {
     "name": "stdin",
     "output_type": "stream",
     "text": [
      " \n"
     ]
    },
    {
     "name": "stdout",
     "output_type": "stream",
     "text": [
      "Proceeding with acquisiton...\n"
     ]
    },
    {
     "data": {
      "text/markdown": [
       "<span style=\"color: #014d4e;font-weight:bold\">Recording data into: 001_MyDataFile_MeasuringXYZ.</span>"
      ],
      "text/plain": [
       "<IPython.core.display.Markdown object>"
      ]
     },
     "metadata": {},
     "output_type": "display_data"
    },
    {
     "name": "stdout",
     "output_type": "stream",
     "text": [
      "Single channel acq. set on OSC.\n",
      "Modulation is off. No mod parameters saved.\n"
     ]
    },
    {
     "name": "stderr",
     "output_type": "stream",
     "text": [
      "100%|██████████████████████████████████████████████████████████████████████████████████| 10/10 [00:00<00:00, 12.20it/s]\n"
     ]
    },
    {
     "name": "stdout",
     "output_type": "stream",
     "text": [
      "Measurement saved, time: 2022/06/01, 17:37:11\n",
      "Filesize: 4.6KiB\n"
     ]
    },
    {
     "data": {
      "image/png": "[encoded data removed]",
      "text/plain": [
       "<Figure size 648x576 with 2 Axes>"
      ]
     },
     "metadata": {
      "needs_background": "light"
     },
     "output_type": "display_data"
    }
   ],
   "source": [
    "saved_obj = {}\n",
    "#### THIS IS WHAT YOU SHOULD CHANGE ###############\n",
    "fname = '001_MyDataFile_MeasuringXYZ'\n",
    "acq_channels = (1,)  # (1,2,3,4) to select oscilloscope channel(s). Must be tuple: f.e. (1,) for single chan\n",
    "repeats = 10 # How many acquisitions in sequence should be taken\n",
    "\n",
    "saved_obj['notes'] = '''\n",
    "You can save any note you want.\n",
    "It can be multiple lines.\n",
    "'''\n",
    "\n",
    "#### THESE ARE SAVED PARAMETERS (USING THESE IS OPTIONAL, but likely helpful)###########\n",
    "saved_obj['params'] = {}\n",
    "#saved_obj['params']['I_{vcsel}'] = 2.200e-3\n",
    "#saved_obj['params']['I_{EDFA}'] = 123e-3\n",
    "#saved_obj['params']['V_{MZM}'] = 7.67\n",
    "#saved_obj['params']['V_{SM_mas}'] = 0.830\n",
    "\n",
    "\n",
    "##### HERE THE ACTUAL MEASURING STARTS, NO NEED TO CHANGE CODE BELOW ##########            \n",
    "if isHot == True:\n",
    "    \n",
    "    #### Filename synthesis\n",
    "    now = datetime.now()\n",
    "    saved_obj['date'] = now.strftime(\"%Y/%m/%d, %H:%M:%S\")\n",
    "    \n",
    "    full_fname = now.strftime(\"%Y-%m-%d\")+'__'+fname+'.pkl.lz'\n",
    "    full_filepath = os.path.join(datadir_full,full_fname)\n",
    "    \n",
    "    saved_obj['fname'] = fname\n",
    "    saved_obj['repeats'] = repeats   \n",
    "    channelcount = len(acq_channels)\n",
    "    saved_obj['readout_osc_count'] = channelcount\n",
    "    \n",
    "    #### Overwrite check\n",
    "    if os.path.isfile(full_filepath):\n",
    "        warnings.warn(\"File exists already! Press Enter to continue...\")\n",
    "        entered = input()\n",
    "        if entered != '':\n",
    "            sys.exit()  \n",
    "        print('Proceeding with acquisiton...')\n",
    "    \n",
    "    display (Markdown(f'<span style=\"color: #014d4e;font-weight:bold\">Recording data into: {fname}.</span>'))\n",
    "    \n",
    "    #### Input channels check:\n",
    "    if not set(acq_channels).issubset((1,2,3,4)):\n",
    "        warnings.warn(\"At least one of the specified OSC channel numbers is out of allowed range.\")\n",
    "        sys.exit() \n",
    "    else:\n",
    "        lab.Set_OSC_Channels(rth, acq_channels, verbose = True)\n",
    "    \n",
    "    #### Saving all modulation parameters via keywords search\n",
    "    if using_AWG_channels != None:\n",
    "        saved_obj['modulation'] = {}\n",
    "        saved_obj['modulation']['samplerate'] = samplerate\n",
    "        for jjj in using_AWG_channels:\n",
    "            #wholex = eval(f'wf{jjj}_x')\n",
    "            saved_obj['modulation'][f'wf{jjj}_xpar'] = eval(f'wf{jjj}_xpar')\n",
    "            saved_obj['modulation'][f'wf{jjj}_y'] = eval(f'wf{jjj}_y')\n",
    "\n",
    "            print(f'Mod parameters (CH{jjj}) saved:\\n[',end='')\n",
    "            saved_wf_par_counter = 0\n",
    "            for var in dir():\n",
    "                if f'ch{jjj}_' in var:\n",
    "                    saved_obj['modulation'][var] = eval(var)\n",
    "                    saved_wf_par_counter = saved_wf_par_counter+1\n",
    "                    print(var,end=', ')\n",
    "            print(']')\n",
    "    else:\n",
    "        print(f'Modulation is off. No mod parameters saved.')\n",
    "        saved_obj['modulation'] = None\n",
    "     \n",
    "    #### Saving Keithley voltage if available\n",
    "    try:\n",
    "        sm_I,sm_V = lab.Keithley_getReadout(sm)\n",
    "        saved_obj['params']['V_sm'] = sm_V\n",
    "        print(f'Keithley SM voltage: {sm_V}')\n",
    "    except:\n",
    "        pass\n",
    "    \n",
    "    #### Create plots: overlay of all measurements, mean+min/max\n",
    "    if channelcount == 1:\n",
    "        figR,axR = plt.subplots(2,1,figsize=(9,8),gridspec_kw={'height_ratios':(1,1.5)})\n",
    "    else:\n",
    "        figR,axR = plt.subplots(2,channelcount,figsize=(7+2*channelcount,8),gridspec_kw={'height_ratios':(1,1.5)})\n",
    " \n",
    "    #### Get readout shape to create according arrays\n",
    "    ytotal = {}\n",
    "    ymin = {}\n",
    "    ymax = {}\n",
    "\n",
    "    t, ys = lab.Acq_OSC_Traces(rth, acq_channels)\n",
    "    for ch_no, ch in enumerate(acq_channels):        \n",
    "        y = np.asarray(ys[str(ch)])\n",
    "\n",
    "        ytotal[str(ch)] = np.zeros(y.shape)\n",
    "        ymin[str(ch)] = y.copy()\n",
    "        ymax[str(ch)] = y.copy() \n",
    "        saved_obj[f'readout_osc_{ch_no}'] = {}\n",
    "    \n",
    "    #### Measure\n",
    "    pbar = tqdm(total=repeats*len(acq_channels))\n",
    "    #pbar.set_description()\n",
    "    for jjj in range(repeats):          \n",
    "        xpar, ys = lab.Acq_OSC_Traces(rth, acq_channels)\n",
    "        for ch_no, ch in enumerate(acq_channels):  \n",
    "            y = np.asarray(y)\n",
    "            saved_obj[f'readout_osc_{ch_no}'][f'{jjj}'] = {}\n",
    "            saved_obj[f'readout_osc_{ch_no}'][f'{jjj}']['xpar'] = xpar\n",
    "            saved_obj[f'readout_osc_{ch_no}'][f'{jjj}']['y'] = ys[str(ch)]\n",
    "            \n",
    "            if channelcount == 1:\n",
    "                axR[0].plot(np.linspace(*xpar),ys[str(ch)],color='xkcd:black',lw=2,alpha=1/repeats)\n",
    "            else:\n",
    "                axR[0,ch_no].plot(np.linspace(*xpar),ys[str(ch)],color='xkcd:black',lw=2,alpha=1/repeats)\n",
    "     \n",
    "            ytotal[str(ch)] = ytotal[str(ch)]+ys[str(ch)]\n",
    "            ymin[str(ch)] = np.minimum(ymin[str(ch)],ys[str(ch)])\n",
    "            ymax[str(ch)] = np.maximum(ymax[str(ch)],ys[str(ch)])\n",
    "            pbar.update(1)\n",
    "    pbar.close()       \n",
    "\n",
    "    #### Render mean, maximum, minimum readouts\n",
    "    \n",
    "    if len(acq_channels) == 1:\n",
    "        ytotal[str(ch)] = ytotal[str(ch)]/repeats     \n",
    "        #axR[1].plot(t,,color='xkcd:evergreen',lw=0.5,alpha=0.5,label='Min')\n",
    "        axR[1].fill_between(np.linspace(*t),ymin[str(ch)],ymax[str(ch)],color='xkcd:ocean blue',alpha=0.5,label='Min-Max')\n",
    "        axR[1].plot(np.linspace(*t),ytotal[str(ch)],color='xkcd:black',lw=1,label='Mean trace')\n",
    "        axR[1].legend()\n",
    "        axR[0].set_facecolor((1.0, 0.47, 0.42,0.2))\n",
    "        axR[1].set_facecolor((1.0, 0.47, 0.42,0.2))\n",
    "        axR[0].set_ylabel('Overlay of all recorded traces')\n",
    "        axR[1].set_ylabel('Average trace\\n + sample-wise min/max')\n",
    "\n",
    "        #### Dump mean trace into the file for convenience\n",
    "        saved_obj[f'readout_osc_{ch_no}']['mean'] = {}\n",
    "        saved_obj[f'readout_osc_{ch_no}']['mean']['xpar'] = xpar\n",
    "        saved_obj[f'readout_osc_{ch_no}']['mean']['y'] = ytotal\n",
    "    else:    \n",
    "        for ch_no, ch in enumerate(acq_channels):       \n",
    "            ytotal[str(ch)] = ytotal[str(ch)]/repeats     \n",
    "            #axR[1].plot(t,,color='xkcd:evergreen',lw=0.5,alpha=0.5,label='Min')\n",
    "            axR[1,ch_no].fill_between(np.linspace(*t),ymin[str(ch)],ymax[str(ch)],color='xkcd:ocean blue',alpha=0.5,label='Min-Max')\n",
    "            axR[1,ch_no].plot(np.linspace(*t),ytotal[str(ch)],color='xkcd:black',lw=1,label='Mean trace')\n",
    "            axR[1,ch_no].legend()\n",
    "            axR[0,ch_no].set_facecolor((1.0, 0.47, 0.42,0.2))\n",
    "            axR[1,ch_no].set_facecolor((1.0, 0.47, 0.42,0.2))\n",
    "            axR[0,ch_no].set_ylabel('Overlay of all recorded traces')\n",
    "            axR[1,ch_no].set_ylabel('Average trace\\n + sample-wise min/max')\n",
    "\n",
    "            #### Dump mean trace into the file for convenience\n",
    "            saved_obj[f'readout_osc_{ch_no}']['mean'] = {}\n",
    "            saved_obj[f'readout_osc_{ch_no}']['mean']['xpar'] = xpar\n",
    "            saved_obj[f'readout_osc_{ch_no}']['mean']['y'] = ytotal\n",
    "        figR.tight_layout()\n",
    "    #### Save everything into LZMA-compressed pickled (serialized) file\n",
    "    if isSaving:\n",
    "        memsize = sys.getsizeof(saved_obj)\n",
    "        #print(f'Object size (memory): {memsize} [{lab.filesize_fmt(memsize)}]')\n",
    "        with lzma.open(full_filepath,\"wb\",preset=3) as f:\n",
    "            pickle.dump(saved_obj,f)\n",
    "            print(f'Measurement saved, time: {saved_obj[\"date\"]}')\n",
    "        print('Filesize: '+lab.Filesize_Fmt(os.stat(full_filepath).st_size))\n",
    "else:\n",
    "    display (Markdown('<span style=\"color: #e17701;font-weight:bold\">The global acquisition switch (isHot) is set to FALSE. No data recorded.</span>'))"
   ]
  },
  {
   "cell_type": "markdown",
   "id": "e06f1c3e-b527-4aa8-b68b-84680b5f9ebd",
   "metadata": {},
   "source": [
    "## **Data visualization**"
   ]
  },
  {
   "cell_type": "code",
   "execution_count": 8,
   "id": "eba7b9fe-e455-4076-9bdb-f7b609985310",
   "metadata": {},
   "outputs": [
    {
     "name": "stdout",
     "output_type": "stream",
     "text": [
      "KEY                       LEVEL           TYPE      \n",
      "-------------------------------------------------------------------------------\n",
      "date                      0               <str>: 2022/06/01, 17:37:11\n",
      "fname                     0               <str>: 001_MyDataFile_MeasuringXYZ\n",
      "modulation                0               <NoneType>\n",
      "notes                     0               <str>: \n",
      "You can save any note you want.\n",
      "It can be multiple lines.\n",
      "\n",
      "params                    0               <dict>    \n",
      "readout_osc_0             0               <dict>: 10x | 1.00e+09 Sa/s, 4000 Sa\n",
      "readout_osc_count         0               <int>: 1  \n",
      "repeats                   0               <int>: 10 \n"
     ]
    }
   ],
   "source": [
    "## Visualize contents of a recorded measurement datafile\n",
    "dfile = '2022-06-01__001_MyDataFile_MeasuringXYZ.pkl.lz'\n",
    "with lzma.open((os.path.join(datadir_full,dfile)),\"rb\") as f:\n",
    "    loaded_obj = pickle.load(f)\n",
    "    lab.Visualise_Data_Dict(loaded_obj)"
   ]
  },
  {
   "cell_type": "code",
   "execution_count": 9,
   "id": "669599c2-6796-48f8-af7e-6d82b67952d5",
   "metadata": {
    "tags": []
   },
   "outputs": [
    {
     "data": {
      "text/markdown": [
       "File loading lookup phrase: <span style=\"color:#1fa774; font-weight:bold\">MyDataFile.</span> Found files: <span style=\"color:#1fa774; font-weight:bold\">1</span>"
      ],
      "text/plain": [
       "<IPython.core.display.Markdown object>"
      ]
     },
     "metadata": {},
     "output_type": "display_data"
    },
    {
     "ename": "KeyError",
     "evalue": "'readout_osc_1'",
     "output_type": "error",
     "traceback": [
      "\u001b[1;31m---------------------------------------------------------------------------\u001b[0m",
      "\u001b[1;31mKeyError\u001b[0m                                  Traceback (most recent call last)",
      "\u001b[1;32m<ipython-input-9-813528f8dd9f>\u001b[0m in \u001b[0;36m<module>\u001b[1;34m\u001b[0m\n\u001b[0;32m     28\u001b[0m                     \u001b[0mprnt_string\u001b[0m \u001b[1;33m=\u001b[0m \u001b[1;34m'<span style=\"color: #1fa774\">Loaded file:</span> <span style=\"color:#1fa774; font-weight:bold\">'\u001b[0m\u001b[1;33m+\u001b[0m\u001b[0mdfile\u001b[0m\u001b[1;33m+\u001b[0m\u001b[1;34m'</span>. <br>'\u001b[0m\u001b[1;33m+\u001b[0m\u001b[1;34mf'- Multitrace (n={repeats}) measurement readout.'\u001b[0m\u001b[1;33m\u001b[0m\u001b[1;33m\u001b[0m\u001b[0m\n\u001b[0;32m     29\u001b[0m \u001b[1;33m\u001b[0m\u001b[0m\n\u001b[1;32m---> 30\u001b[1;33m                     \u001b[0mytotal\u001b[0m \u001b[1;33m=\u001b[0m \u001b[0mnp\u001b[0m\u001b[1;33m.\u001b[0m\u001b[0mzeros\u001b[0m\u001b[1;33m(\u001b[0m\u001b[0mloaded_obj\u001b[0m\u001b[1;33m[\u001b[0m\u001b[1;34mf'readout_osc_{osc_trace_no}'\u001b[0m\u001b[1;33m]\u001b[0m\u001b[1;33m[\u001b[0m\u001b[1;34m'0'\u001b[0m\u001b[1;33m]\u001b[0m\u001b[1;33m[\u001b[0m\u001b[1;34m'y'\u001b[0m\u001b[1;33m]\u001b[0m\u001b[1;33m.\u001b[0m\u001b[0mshape\u001b[0m\u001b[1;33m[\u001b[0m\u001b[1;36m0\u001b[0m\u001b[1;33m]\u001b[0m\u001b[1;33m)\u001b[0m\u001b[1;33m\u001b[0m\u001b[1;33m\u001b[0m\u001b[0m\n\u001b[0m\u001b[0;32m     31\u001b[0m \u001b[1;33m\u001b[0m\u001b[0m\n\u001b[0;32m     32\u001b[0m                     \u001b[1;32mfor\u001b[0m \u001b[0mjjj\u001b[0m \u001b[1;32min\u001b[0m \u001b[0mrange\u001b[0m\u001b[1;33m(\u001b[0m\u001b[0mrepeats\u001b[0m\u001b[1;33m)\u001b[0m\u001b[1;33m:\u001b[0m\u001b[1;33m\u001b[0m\u001b[1;33m\u001b[0m\u001b[0m\n",
      "\u001b[1;31mKeyError\u001b[0m: 'readout_osc_1'"
     ]
    },
    {
     "data": {
      "image/png": "[encoded data removed]",
      "text/plain": [
       "<Figure size 1368x360 with 1 Axes>"
      ]
     },
     "metadata": {
      "needs_background": "light"
     },
     "output_type": "display_data"
    }
   ],
   "source": [
    "# MULTI-DATA VIEWER\n",
    "lookup = 'MyDataFile'\n",
    "osc_trace_no = 1 #integer specifying count of returned OSC channel\n",
    "x_range = (0.1,0.9)\n",
    "############################\n",
    "datafiles = lab.Get_Files_From_Dir(os.path.join(datadir_full))\n",
    "\n",
    "filecounter = 0\n",
    "for dfile in datafiles:\n",
    "    if lookup in dfile:\n",
    "        filecounter = filecounter+1  \n",
    "        \n",
    "if filecounter > 0:\n",
    "    display (Markdown(f'File loading lookup phrase: <span style=\"color:#1fa774; font-weight:bold\">{lookup}.</span> Found files: <span style=\"color:#1fa774; font-weight:bold\">{filecounter}</span>'))  \n",
    "    if filecounter == 1:\n",
    "        figA,axA= plt.subplots(1,1,figsize=(19,5)) \n",
    "    else:\n",
    "        figA,axA= plt.subplots(filecounter,1,figsize=(14,5+(filecounter-1)*3)) \n",
    "        \n",
    "    figcounter = 0\n",
    "    for dfile in datafiles:\n",
    "        if lookup in dfile:        \n",
    "            with lzma.open((os.path.join(datadir_full,dfile)),\"rb\") as f:\n",
    "                loaded_obj = pickle.load(f) \n",
    "                repeats = loaded_obj['repeats']\n",
    "                \n",
    "                if repeats > 1:\n",
    "                    prnt_string = '<span style=\"color: #1fa774\">Loaded file:</span> <span style=\"color:#1fa774; font-weight:bold\">'+dfile+'</span>. <br>'+f'- Multitrace (n={repeats}) measurement readout.'\n",
    "                    \n",
    "                    ytotal = np.zeros(loaded_obj[f'readout_osc_{osc_trace_no}']['0']['y'].shape[0])\n",
    "                    \n",
    "                    for jjj in range(repeats):\n",
    "                        xpar = loaded_obj[f'readout_osc_{osc_trace_no}'][str(jjj)]['xpar']\n",
    "                        ytotal = ytotal + loaded_obj[f'readout_osc_{osc_trace_no}'][str(jjj)]['y']    \n",
    "                    \n",
    "                    t = np.linspace(*xpar)\n",
    "                    ytotal = ytotal/repeats\n",
    "                    \n",
    "                    try:    \n",
    "                        wf1 = loaded_obj['modulation']['wf1_y']\n",
    "                        xax1 = np.linspace(*loaded_obj['modulation']['wf1_xpar'])   \n",
    "                        prnt_string = prnt_string + '  |  Mod1'\n",
    "                    except:\n",
    "                        pass\n",
    "                    try:\n",
    "                        wf2 = loaded_obj['modulation']['wf2_y']\n",
    "                        xax2 = np.linspace(*loaded_obj['modulation']['wf2_xpar'])\n",
    "                        prnt_string = prnt_string + '  |  Mod2'\n",
    "                    except:\n",
    "                        pass\n",
    "                    \n",
    "                    \n",
    "                    display (Markdown(prnt_string+'\\n'))\n",
    "                    \n",
    "                    if filecounter > 1:                     \n",
    "                        axA[figcounter].plot(t,ytotal,color='xkcd:dark green',lw=0.75,alpha=1,label=f'Mean trace (from n={repeats})')    \n",
    "                        axA[figcounter].set_xlim((t[int(t.shape[0]*x_range[0])],t[int(t.shape[0]*x_range[1])]))                           \n",
    "                        \n",
    "                        axM = axA[figcounter].twinx()\n",
    "                        try:\n",
    "                            axM.plot(xax1[0:wf1.shape[0]],wf1,color='xkcd:indigo',alpha=0.6,lw=0.5,ls='--',label='MOD WF1') \n",
    "                        except:\n",
    "                            pass\n",
    "                        try:\n",
    "                            axM.plot(xax2[0:wf2.shape[0]],wf2,color='xkcd:royal purple',alpha=0.6,lw=0.75,ls='-.',label='MOD WF2')\n",
    "                        except:\n",
    "                            pass\n",
    "                        \n",
    "                        axA[figcounter].legend(loc='upper left')\n",
    "                        axM.legend(loc='upper right')\n",
    "                    elif filecounter == 1:\n",
    "                        axA.plot(t,ytotal,color='xkcd:dark green',lw=0.75,alpha=1,label=f'Mean trace (from n={repeats})')    \n",
    "                        axA.set_xlim((t[int(t.shape[0]*x_range[0])],t[int(t.shape[0]*x_range[1])]))                           \n",
    "                        \n",
    "                        axM = axA.twinx()\n",
    "                        try:\n",
    "                            axM.plot(xax1[0:wf1.shape[0]],wf1,color='xkcd:indigo',alpha=0.6,lw=0.5,ls='--',label='MOD WF1') \n",
    "                        except:\n",
    "                            pass\n",
    "                        try:\n",
    "                            axM.plot(xax2[0:wf2.shape[0]],wf2,color='xkcd:royal purple',alpha=0.6,lw=0.75,ls='-.',label='MOD WF2') \n",
    "                        except:\n",
    "                            pass\n",
    "                        \n",
    "                        axA.legend(loc='upper left')\n",
    "                        axM.legend(loc='upper right')\n",
    "                        \n",
    "                    figcounter = figcounter+1\n",
    "else:\n",
    "    display (Markdown(f'File loading lookup phrase: <span style=\"color:#1fa774; font-weight:bold\">{lookup}.</span> Found files: <span style=\"color:#ff474c; font-weight:bold\">{filecounter}</span>.'))"
   ]
  },
  {
   "cell_type": "code",
   "execution_count": null,
   "id": "81c8b1bb-bc3e-42c6-8ac2-5eae4c386d97",
   "metadata": {
    "tags": []
   },
   "outputs": [],
   "source": [
    "## Opening a single data file for post-processing\n",
    "dfile = '2022-05-05__001_MyDataFile_MeasuringXYZ.pkl.lz'\n",
    "osc_trace_no = 1\n",
    "with lzma.open((os.path.join(datadir_full,dfile)),\"rb\") as f:\n",
    "    loaded_obj = pickle.load(f)\n",
    "    \n",
    "    #### Plotting what you want\n",
    "    fig, ax = plt.subplots(2,1,figsize = (12,10)) \n",
    "\n",
    "    try:\n",
    "        modx = np.linspace(*np.linspace(*loaded_obj['modulation']['wf1_xpar'])\n",
    "        mody = np.linspace(loaded_obj['modulation']['wf1_y']\n",
    "        ax[0].plot(modx,mody,color='red')\n",
    "        ax[0].set_title('Measurement repetitions' + str(loaded_obj['repeats']))\n",
    "    \n",
    "    x = np.linspace(*loaded_obj[f'readout_osc_{osc_trace_no}']['mean']['xpar'])\n",
    "    y = loaded_obj[f'readout_osc_{osc_trace_no}']['mean']['y']\n",
    "    \n",
    "    ax[1].plot(x,y,color='xkcd:crimson')\n",
    "    ax[1].set_title('Measurement repetitions' + str(loaded_obj['repeats']))\n",
    "    \n",
    "    fig.savefig('figs\\\\test.png')"
   ]
  }
 ],
 "metadata": {
  "kernelspec": {
   "display_name": "Python [conda env:py37_main]",
   "language": "python",
   "name": "conda-env-py37_main-py"
  },
  "language_info": {
   "codemirror_mode": {
    "name": "ipython",
    "version": 3
   },
   "file_extension": ".py",
   "mimetype": "text/x-python",
   "name": "python",
   "nbconvert_exporter": "python",
   "pygments_lexer": "ipython3",
   "version": "3.7.6"
  }
 },
 "nbformat": 4,
 "nbformat_minor": 5
}
